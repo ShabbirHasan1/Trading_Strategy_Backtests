{
 "cells": [
  {
   "cell_type": "markdown",
   "metadata": {},
   "source": [
    "https://youtu.be/iKqjee7yhsQ: Video explanation of strategy and code"
   ]
  },
  {
   "cell_type": "code",
   "execution_count": 2,
   "metadata": {},
   "outputs": [],
   "source": [
    "import pandas_datareader as pdr\n",
    "import numpy as np\n",
    "import datetime\n",
    "import matplotlib.pyplot as plt\n",
    "%matplotlib inline"
   ]
  },
  {
   "cell_type": "code",
   "execution_count": 3,
   "metadata": {},
   "outputs": [],
   "source": [
    "#define date range\n",
    "START = datetime.datetime(2000, 1, 1)\n",
    "END = datetime.datetime(2020, 12, 31)\n",
    "\n",
    "YEARS = (END - START).days / 365.25"
   ]
  },
  {
   "cell_type": "code",
   "execution_count": 4,
   "metadata": {},
   "outputs": [],
   "source": [
    "#define variables\n",
    "STARTING_BALANCE = 10000\n",
    "down_days = 1"
   ]
  },
  {
   "cell_type": "code",
   "execution_count": 5,
   "metadata": {
    "scrolled": false
   },
   "outputs": [
    {
     "data": {
      "text/html": [
       "<div>\n",
       "<style scoped>\n",
       "    .dataframe tbody tr th:only-of-type {\n",
       "        vertical-align: middle;\n",
       "    }\n",
       "\n",
       "    .dataframe tbody tr th {\n",
       "        vertical-align: top;\n",
       "    }\n",
       "\n",
       "    .dataframe thead th {\n",
       "        text-align: right;\n",
       "    }\n",
       "</style>\n",
       "<table border=\"1\" class=\"dataframe\">\n",
       "  <thead>\n",
       "    <tr style=\"text-align: right;\">\n",
       "      <th></th>\n",
       "      <th>High</th>\n",
       "      <th>Low</th>\n",
       "      <th>Open</th>\n",
       "      <th>Close</th>\n",
       "      <th>Volume</th>\n",
       "      <th>Adj Close</th>\n",
       "    </tr>\n",
       "    <tr>\n",
       "      <th>Date</th>\n",
       "      <th></th>\n",
       "      <th></th>\n",
       "      <th></th>\n",
       "      <th></th>\n",
       "      <th></th>\n",
       "      <th></th>\n",
       "    </tr>\n",
       "  </thead>\n",
       "  <tbody>\n",
       "    <tr>\n",
       "      <th>2020-12-24</th>\n",
       "      <td>3703.820068</td>\n",
       "      <td>3689.320068</td>\n",
       "      <td>3694.030029</td>\n",
       "      <td>3703.060059</td>\n",
       "      <td>1885090000</td>\n",
       "      <td>3703.060059</td>\n",
       "    </tr>\n",
       "    <tr>\n",
       "      <th>2020-12-28</th>\n",
       "      <td>3740.510010</td>\n",
       "      <td>3723.030029</td>\n",
       "      <td>3723.030029</td>\n",
       "      <td>3735.360107</td>\n",
       "      <td>3527460000</td>\n",
       "      <td>3735.360107</td>\n",
       "    </tr>\n",
       "    <tr>\n",
       "      <th>2020-12-29</th>\n",
       "      <td>3756.120117</td>\n",
       "      <td>3723.310059</td>\n",
       "      <td>3750.010010</td>\n",
       "      <td>3727.040039</td>\n",
       "      <td>3387030000</td>\n",
       "      <td>3727.040039</td>\n",
       "    </tr>\n",
       "    <tr>\n",
       "      <th>2020-12-30</th>\n",
       "      <td>3744.629883</td>\n",
       "      <td>3730.209961</td>\n",
       "      <td>3736.189941</td>\n",
       "      <td>3732.040039</td>\n",
       "      <td>3145200000</td>\n",
       "      <td>3732.040039</td>\n",
       "    </tr>\n",
       "    <tr>\n",
       "      <th>2020-12-31</th>\n",
       "      <td>3760.199951</td>\n",
       "      <td>3726.879883</td>\n",
       "      <td>3733.270020</td>\n",
       "      <td>3756.070068</td>\n",
       "      <td>3172510000</td>\n",
       "      <td>3756.070068</td>\n",
       "    </tr>\n",
       "  </tbody>\n",
       "</table>\n",
       "</div>"
      ],
      "text/plain": [
       "                   High          Low         Open        Close      Volume  \\\n",
       "Date                                                                         \n",
       "2020-12-24  3703.820068  3689.320068  3694.030029  3703.060059  1885090000   \n",
       "2020-12-28  3740.510010  3723.030029  3723.030029  3735.360107  3527460000   \n",
       "2020-12-29  3756.120117  3723.310059  3750.010010  3727.040039  3387030000   \n",
       "2020-12-30  3744.629883  3730.209961  3736.189941  3732.040039  3145200000   \n",
       "2020-12-31  3760.199951  3726.879883  3733.270020  3756.070068  3172510000   \n",
       "\n",
       "              Adj Close  \n",
       "Date                     \n",
       "2020-12-24  3703.060059  \n",
       "2020-12-28  3735.360107  \n",
       "2020-12-29  3727.040039  \n",
       "2020-12-30  3732.040039  \n",
       "2020-12-31  3756.070068  "
      ]
     },
     "execution_count": 5,
     "metadata": {},
     "output_type": "execute_result"
    }
   ],
   "source": [
    "#download data\n",
    "price = pdr.get_data_yahoo('^GSPC', START, END)\n",
    "price.tail()"
   ]
  },
  {
   "cell_type": "code",
   "execution_count": 6,
   "metadata": {},
   "outputs": [
    {
     "data": {
      "text/html": [
       "<div>\n",
       "<style scoped>\n",
       "    .dataframe tbody tr th:only-of-type {\n",
       "        vertical-align: middle;\n",
       "    }\n",
       "\n",
       "    .dataframe tbody tr th {\n",
       "        vertical-align: top;\n",
       "    }\n",
       "\n",
       "    .dataframe thead th {\n",
       "        text-align: right;\n",
       "    }\n",
       "</style>\n",
       "<table border=\"1\" class=\"dataframe\">\n",
       "  <thead>\n",
       "    <tr style=\"text-align: right;\">\n",
       "      <th></th>\n",
       "      <th>Open</th>\n",
       "      <th>Close</th>\n",
       "    </tr>\n",
       "    <tr>\n",
       "      <th>Date</th>\n",
       "      <th></th>\n",
       "      <th></th>\n",
       "    </tr>\n",
       "  </thead>\n",
       "  <tbody>\n",
       "    <tr>\n",
       "      <th>2020-12-24</th>\n",
       "      <td>3694.030029</td>\n",
       "      <td>3703.060059</td>\n",
       "    </tr>\n",
       "    <tr>\n",
       "      <th>2020-12-28</th>\n",
       "      <td>3723.030029</td>\n",
       "      <td>3735.360107</td>\n",
       "    </tr>\n",
       "    <tr>\n",
       "      <th>2020-12-29</th>\n",
       "      <td>3750.010010</td>\n",
       "      <td>3727.040039</td>\n",
       "    </tr>\n",
       "    <tr>\n",
       "      <th>2020-12-30</th>\n",
       "      <td>3736.189941</td>\n",
       "      <td>3732.040039</td>\n",
       "    </tr>\n",
       "    <tr>\n",
       "      <th>2020-12-31</th>\n",
       "      <td>3733.270020</td>\n",
       "      <td>3756.070068</td>\n",
       "    </tr>\n",
       "  </tbody>\n",
       "</table>\n",
       "</div>"
      ],
      "text/plain": [
       "                   Open        Close\n",
       "Date                                \n",
       "2020-12-24  3694.030029  3703.060059\n",
       "2020-12-28  3723.030029  3735.360107\n",
       "2020-12-29  3750.010010  3727.040039\n",
       "2020-12-30  3736.189941  3732.040039\n",
       "2020-12-31  3733.270020  3756.070068"
      ]
     },
     "execution_count": 6,
     "metadata": {},
     "output_type": "execute_result"
    }
   ],
   "source": [
    "#drop redundant columns\n",
    "price = price.drop(['High', 'Low', 'Volume', 'Adj Close'], 1)\n",
    "price.tail()"
   ]
  },
  {
   "cell_type": "code",
   "execution_count": 7,
   "metadata": {},
   "outputs": [
    {
     "data": {
      "image/png": "[encoded data removed]",
      "text/plain": [
       "<Figure size 432x288 with 1 Axes>"
      ]
     },
     "metadata": {
      "needs_background": "light"
     },
     "output_type": "display_data"
    }
   ],
   "source": [
    "#plot chart\n",
    "plt.style.use('bmh')\n",
    "plt.plot(price.Close)\n",
    "plt.show()"
   ]
  },
  {
   "cell_type": "code",
   "execution_count": 8,
   "metadata": {},
   "outputs": [],
   "source": [
    "#calculate return and balance\n",
    "price['oc'] = price.Close / price.Open\n",
    "price['cc'] = price.Close / price.Close.shift(1)\n",
    "price.cc.iat[0] = 1\n",
    "price['Bench_Bal'] = STARTING_BALANCE * price.cc.cumprod()"
   ]
  },
  {
   "cell_type": "code",
   "execution_count": 9,
   "metadata": {},
   "outputs": [
    {
     "data": {
      "text/plain": [
       "-56.78"
      ]
     },
     "execution_count": 9,
     "metadata": {},
     "output_type": "execute_result"
    }
   ],
   "source": [
    "#calculate benchmark drawdown\n",
    "price['Bench_Peak'] = price.Bench_Bal.cummax()\n",
    "price['Bench_DD'] = price.Bench_Bal - price.Bench_Peak\n",
    "\n",
    "bench_dd = round(((price.Bench_DD / price.Bench_Peak).min() * 100), 2)\n",
    "\n",
    "bench_dd"
   ]
  },
  {
   "cell_type": "code",
   "execution_count": 10,
   "metadata": {},
   "outputs": [
    {
     "data": {
      "text/html": [
       "<div>\n",
       "<style scoped>\n",
       "    .dataframe tbody tr th:only-of-type {\n",
       "        vertical-align: middle;\n",
       "    }\n",
       "\n",
       "    .dataframe tbody tr th {\n",
       "        vertical-align: top;\n",
       "    }\n",
       "\n",
       "    .dataframe thead th {\n",
       "        text-align: right;\n",
       "    }\n",
       "</style>\n",
       "<table border=\"1\" class=\"dataframe\">\n",
       "  <thead>\n",
       "    <tr style=\"text-align: right;\">\n",
       "      <th></th>\n",
       "      <th>Open</th>\n",
       "      <th>Close</th>\n",
       "      <th>oc</th>\n",
       "      <th>cc</th>\n",
       "      <th>Bench_Bal</th>\n",
       "      <th>Bench_Peak</th>\n",
       "      <th>Bench_DD</th>\n",
       "      <th>Down</th>\n",
       "      <th>Consecutive</th>\n",
       "    </tr>\n",
       "    <tr>\n",
       "      <th>Date</th>\n",
       "      <th></th>\n",
       "      <th></th>\n",
       "      <th></th>\n",
       "      <th></th>\n",
       "      <th></th>\n",
       "      <th></th>\n",
       "      <th></th>\n",
       "      <th></th>\n",
       "      <th></th>\n",
       "    </tr>\n",
       "  </thead>\n",
       "  <tbody>\n",
       "    <tr>\n",
       "      <th>2020-12-24</th>\n",
       "      <td>3694.030029</td>\n",
       "      <td>3703.060059</td>\n",
       "      <td>1.002444</td>\n",
       "      <td>1.003537</td>\n",
       "      <td>25446.737491</td>\n",
       "      <td>25580.187569</td>\n",
       "      <td>-133.450078</td>\n",
       "      <td>False</td>\n",
       "      <td>0</td>\n",
       "    </tr>\n",
       "    <tr>\n",
       "      <th>2020-12-28</th>\n",
       "      <td>3723.030029</td>\n",
       "      <td>3735.360107</td>\n",
       "      <td>1.003312</td>\n",
       "      <td>1.008723</td>\n",
       "      <td>25668.697397</td>\n",
       "      <td>25668.697397</td>\n",
       "      <td>0.000000</td>\n",
       "      <td>False</td>\n",
       "      <td>0</td>\n",
       "    </tr>\n",
       "    <tr>\n",
       "      <th>2020-12-29</th>\n",
       "      <td>3750.010010</td>\n",
       "      <td>3727.040039</td>\n",
       "      <td>0.993875</td>\n",
       "      <td>0.997773</td>\n",
       "      <td>25611.523440</td>\n",
       "      <td>25668.697397</td>\n",
       "      <td>-57.173957</td>\n",
       "      <td>True</td>\n",
       "      <td>1</td>\n",
       "    </tr>\n",
       "    <tr>\n",
       "      <th>2020-12-30</th>\n",
       "      <td>3736.189941</td>\n",
       "      <td>3732.040039</td>\n",
       "      <td>0.998889</td>\n",
       "      <td>1.001342</td>\n",
       "      <td>25645.882507</td>\n",
       "      <td>25668.697397</td>\n",
       "      <td>-22.814890</td>\n",
       "      <td>True</td>\n",
       "      <td>2</td>\n",
       "    </tr>\n",
       "    <tr>\n",
       "      <th>2020-12-31</th>\n",
       "      <td>3733.270020</td>\n",
       "      <td>3756.070068</td>\n",
       "      <td>1.006107</td>\n",
       "      <td>1.006439</td>\n",
       "      <td>25811.012383</td>\n",
       "      <td>25811.012383</td>\n",
       "      <td>0.000000</td>\n",
       "      <td>False</td>\n",
       "      <td>0</td>\n",
       "    </tr>\n",
       "  </tbody>\n",
       "</table>\n",
       "</div>"
      ],
      "text/plain": [
       "                   Open        Close        oc        cc     Bench_Bal  \\\n",
       "Date                                                                     \n",
       "2020-12-24  3694.030029  3703.060059  1.002444  1.003537  25446.737491   \n",
       "2020-12-28  3723.030029  3735.360107  1.003312  1.008723  25668.697397   \n",
       "2020-12-29  3750.010010  3727.040039  0.993875  0.997773  25611.523440   \n",
       "2020-12-30  3736.189941  3732.040039  0.998889  1.001342  25645.882507   \n",
       "2020-12-31  3733.270020  3756.070068  1.006107  1.006439  25811.012383   \n",
       "\n",
       "              Bench_Peak    Bench_DD   Down  Consecutive  \n",
       "Date                                                      \n",
       "2020-12-24  25580.187569 -133.450078  False            0  \n",
       "2020-12-28  25668.697397    0.000000  False            0  \n",
       "2020-12-29  25668.697397  -57.173957   True            1  \n",
       "2020-12-30  25668.697397  -22.814890   True            2  \n",
       "2020-12-31  25811.012383    0.000000  False            0  "
      ]
     },
     "execution_count": 10,
     "metadata": {},
     "output_type": "execute_result"
    }
   ],
   "source": [
    "#calculate additional columns for strategy\n",
    "\n",
    "#check if today is a down day\n",
    "price['Down'] = price.oc < 1\n",
    "\n",
    "#count consecutive down days\n",
    "#https://stackoverflow.com/questions/27626542/counting-consecutive-positive-value-in-python-array\n",
    "down = price['Down']\n",
    "price['Consecutive'] = down * (down.groupby((down != down.shift()).cumsum()).cumcount() + 1)\n",
    "\n",
    "price.tail()"
   ]
  },
  {
   "cell_type": "code",
   "execution_count": 11,
   "metadata": {},
   "outputs": [],
   "source": [
    "#identify entries and allocate trading fees\n",
    "price['Long'] = price.Consecutive >= down_days"
   ]
  },
  {
   "cell_type": "code",
   "execution_count": 12,
   "metadata": {},
   "outputs": [
    {
     "data": {
      "text/html": [
       "<div>\n",
       "<style scoped>\n",
       "    .dataframe tbody tr th:only-of-type {\n",
       "        vertical-align: middle;\n",
       "    }\n",
       "\n",
       "    .dataframe tbody tr th {\n",
       "        vertical-align: top;\n",
       "    }\n",
       "\n",
       "    .dataframe thead th {\n",
       "        text-align: right;\n",
       "    }\n",
       "</style>\n",
       "<table border=\"1\" class=\"dataframe\">\n",
       "  <thead>\n",
       "    <tr style=\"text-align: right;\">\n",
       "      <th></th>\n",
       "      <th>Open</th>\n",
       "      <th>Close</th>\n",
       "      <th>oc</th>\n",
       "      <th>cc</th>\n",
       "      <th>Bench_Bal</th>\n",
       "      <th>Bench_Peak</th>\n",
       "      <th>Bench_DD</th>\n",
       "      <th>Down</th>\n",
       "      <th>Consecutive</th>\n",
       "      <th>Long</th>\n",
       "      <th>Sys_Ret</th>\n",
       "      <th>Sys_Bal</th>\n",
       "    </tr>\n",
       "    <tr>\n",
       "      <th>Date</th>\n",
       "      <th></th>\n",
       "      <th></th>\n",
       "      <th></th>\n",
       "      <th></th>\n",
       "      <th></th>\n",
       "      <th></th>\n",
       "      <th></th>\n",
       "      <th></th>\n",
       "      <th></th>\n",
       "      <th></th>\n",
       "      <th></th>\n",
       "      <th></th>\n",
       "    </tr>\n",
       "  </thead>\n",
       "  <tbody>\n",
       "    <tr>\n",
       "      <th>2020-12-24</th>\n",
       "      <td>3694.030029</td>\n",
       "      <td>3703.060059</td>\n",
       "      <td>1.002444</td>\n",
       "      <td>1.003537</td>\n",
       "      <td>25446.737491</td>\n",
       "      <td>25580.187569</td>\n",
       "      <td>-133.450078</td>\n",
       "      <td>False</td>\n",
       "      <td>0</td>\n",
       "      <td>False</td>\n",
       "      <td>1.003537</td>\n",
       "      <td>80816.150262</td>\n",
       "    </tr>\n",
       "    <tr>\n",
       "      <th>2020-12-28</th>\n",
       "      <td>3723.030029</td>\n",
       "      <td>3735.360107</td>\n",
       "      <td>1.003312</td>\n",
       "      <td>1.008723</td>\n",
       "      <td>25668.697397</td>\n",
       "      <td>25668.697397</td>\n",
       "      <td>0.000000</td>\n",
       "      <td>False</td>\n",
       "      <td>0</td>\n",
       "      <td>False</td>\n",
       "      <td>1.000000</td>\n",
       "      <td>80816.150262</td>\n",
       "    </tr>\n",
       "    <tr>\n",
       "      <th>2020-12-29</th>\n",
       "      <td>3750.010010</td>\n",
       "      <td>3727.040039</td>\n",
       "      <td>0.993875</td>\n",
       "      <td>0.997773</td>\n",
       "      <td>25611.523440</td>\n",
       "      <td>25668.697397</td>\n",
       "      <td>-57.173957</td>\n",
       "      <td>True</td>\n",
       "      <td>1</td>\n",
       "      <td>True</td>\n",
       "      <td>1.000000</td>\n",
       "      <td>80816.150262</td>\n",
       "    </tr>\n",
       "    <tr>\n",
       "      <th>2020-12-30</th>\n",
       "      <td>3736.189941</td>\n",
       "      <td>3732.040039</td>\n",
       "      <td>0.998889</td>\n",
       "      <td>1.001342</td>\n",
       "      <td>25645.882507</td>\n",
       "      <td>25668.697397</td>\n",
       "      <td>-22.814890</td>\n",
       "      <td>True</td>\n",
       "      <td>2</td>\n",
       "      <td>True</td>\n",
       "      <td>1.001342</td>\n",
       "      <td>80924.568939</td>\n",
       "    </tr>\n",
       "    <tr>\n",
       "      <th>2020-12-31</th>\n",
       "      <td>3733.270020</td>\n",
       "      <td>3756.070068</td>\n",
       "      <td>1.006107</td>\n",
       "      <td>1.006439</td>\n",
       "      <td>25811.012383</td>\n",
       "      <td>25811.012383</td>\n",
       "      <td>0.000000</td>\n",
       "      <td>False</td>\n",
       "      <td>0</td>\n",
       "      <td>False</td>\n",
       "      <td>1.006439</td>\n",
       "      <td>81445.629738</td>\n",
       "    </tr>\n",
       "  </tbody>\n",
       "</table>\n",
       "</div>"
      ],
      "text/plain": [
       "                   Open        Close        oc        cc     Bench_Bal  \\\n",
       "Date                                                                     \n",
       "2020-12-24  3694.030029  3703.060059  1.002444  1.003537  25446.737491   \n",
       "2020-12-28  3723.030029  3735.360107  1.003312  1.008723  25668.697397   \n",
       "2020-12-29  3750.010010  3727.040039  0.993875  0.997773  25611.523440   \n",
       "2020-12-30  3736.189941  3732.040039  0.998889  1.001342  25645.882507   \n",
       "2020-12-31  3733.270020  3756.070068  1.006107  1.006439  25811.012383   \n",
       "\n",
       "              Bench_Peak    Bench_DD   Down  Consecutive   Long   Sys_Ret  \\\n",
       "Date                                                                        \n",
       "2020-12-24  25580.187569 -133.450078  False            0  False  1.003537   \n",
       "2020-12-28  25668.697397    0.000000  False            0  False  1.000000   \n",
       "2020-12-29  25668.697397  -57.173957   True            1   True  1.000000   \n",
       "2020-12-30  25668.697397  -22.814890   True            2   True  1.001342   \n",
       "2020-12-31  25811.012383    0.000000  False            0  False  1.006439   \n",
       "\n",
       "                 Sys_Bal  \n",
       "Date                      \n",
       "2020-12-24  80816.150262  \n",
       "2020-12-28  80816.150262  \n",
       "2020-12-29  80816.150262  \n",
       "2020-12-30  80924.568939  \n",
       "2020-12-31  81445.629738  "
      ]
     },
     "execution_count": 12,
     "metadata": {},
     "output_type": "execute_result"
    }
   ],
   "source": [
    "#calculate system return and balance\n",
    "price['Sys_Ret'] = np.where(price.Long.shift(1) == True, price.cc, 1)\n",
    "price['Sys_Bal'] = STARTING_BALANCE * price.Sys_Ret.cumprod()\n",
    "\n",
    "price.tail()"
   ]
  },
  {
   "cell_type": "code",
   "execution_count": 13,
   "metadata": {},
   "outputs": [
    {
     "data": {
      "image/png": "[encoded data removed]",
      "text/plain": [
       "<Figure size 432x288 with 1 Axes>"
      ]
     },
     "metadata": {
      "needs_background": "light"
     },
     "output_type": "display_data"
    }
   ],
   "source": [
    "#plot results\n",
    "plt.plot(price.Bench_Bal)\n",
    "plt.plot(price.Sys_Bal)\n",
    "\n",
    "plt.show()"
   ]
  },
  {
   "cell_type": "code",
   "execution_count": 14,
   "metadata": {},
   "outputs": [
    {
     "data": {
      "text/plain": [
       "-26.88"
      ]
     },
     "execution_count": 14,
     "metadata": {},
     "output_type": "execute_result"
    }
   ],
   "source": [
    "#calculate system drawdown\n",
    "price['Sys_Peak'] = price.Sys_Bal.cummax()\n",
    "price['Sys_DD'] = price.Sys_Bal - price.Sys_Peak\n",
    "\n",
    "sys_dd = round(((price.Sys_DD / price.Sys_Peak).min()) * 100, 2)\n",
    "\n",
    "sys_dd"
   ]
  },
  {
   "cell_type": "code",
   "execution_count": 15,
   "metadata": {},
   "outputs": [
    {
     "name": "stdout",
     "output_type": "stream",
     "text": [
      "Benchmark Total return: 158.11%\n",
      "Benchmark CAGR: 4.62\n",
      "Benchmark DD: -56.78%\n",
      "\n",
      "System Total return: 714.46%\n",
      "System CAGR: 10.5\n",
      "System DD: -26.88%\n",
      "Time in Market: 46.0%\n",
      "Trades Won: 1398\n",
      "Trades Loss: 1057\n",
      "Winrate: 56.95%\n"
     ]
    }
   ],
   "source": [
    "#calculate metrics\n",
    "bench_return = round(((price.Bench_Bal[-1]/price.Bench_Bal[0]) - 1) * 100, 2)\n",
    "bench_cagr = round(((((price.Bench_Bal[-1]/price.Bench_Bal[0])**(1/YEARS))-1)*100), 2)\n",
    "sys_return = round(((price.Sys_Bal[-1]/price.Sys_Bal[0]) - 1) * 100, 2)\n",
    "sys_cagr = round(((((price.Sys_Bal[-1]/price.Sys_Bal[0])**(1/YEARS))-1)*100), 2)\n",
    "sys_in_market = round((price.Long.value_counts().loc[True] / len(price)) * 100)\n",
    "sys_win = price.Sys_Ret[price.Sys_Ret > 1.0].count()\n",
    "sys_loss = price.Sys_Ret[price.Sys_Ret < 1.0].count()\n",
    "sys_winrate = round(sys_win / (sys_win + sys_loss) * 100, 2)\n",
    "\n",
    "print(f'Benchmark Total return: {bench_return}%')\n",
    "print(f'Benchmark CAGR: {bench_cagr}')\n",
    "print(f'Benchmark DD: {bench_dd}%')\n",
    "print('')\n",
    "print(f'System Total return: {sys_return}%')\n",
    "print(f'System CAGR: {sys_cagr}')\n",
    "print(f'System DD: {sys_dd}%')\n",
    "print(f'Time in Market: {sys_in_market}%')\n",
    "print(f'Trades Won: {sys_win}')\n",
    "print(f'Trades Loss: {sys_loss}')\n",
    "print(f'Winrate: {sys_winrate}%')"
   ]
  },
  {
   "cell_type": "code",
   "execution_count": 16,
   "metadata": {},
   "outputs": [],
   "source": [
    "#define list of ETFs to backtest\n",
    "symbols = ['^GSPC', '^DJI', '^IXIC', '^RUT', '^N225']"
   ]
  },
  {
   "cell_type": "code",
   "execution_count": 17,
   "metadata": {},
   "outputs": [],
   "source": [
    "def backtest(symbol):\n",
    "    #download data\n",
    "    price = pdr.get_data_yahoo(symbol, START, END)\n",
    "    \n",
    "    #drop redundant columns\n",
    "    price = price.drop(['High', 'Low', 'Volume', 'Adj Close'], 1)\n",
    "    \n",
    "    #calculate return and balance\n",
    "    price['oc'] = price.Close / price.Open\n",
    "    price['cc'] = price.Close / price.Close.shift(1)\n",
    "    price.cc.iat[0] = 1\n",
    "    price['Bench_Bal'] = STARTING_BALANCE * price.cc.cumprod()\n",
    "    \n",
    "    #calculate benchmark drawdown\n",
    "    price['Bench_Peak'] = price.Bench_Bal.cummax()\n",
    "    price['Bench_DD'] = price.Bench_Bal - price.Bench_Peak\n",
    "\n",
    "    #check if today is a down day\n",
    "    price['Down'] = price.oc < 1\n",
    "\n",
    "    #count consecutive down days\n",
    "    #https://stackoverflow.com/questions/27626542/counting-consecutive-positive-value-in-python-array\n",
    "    down = price['Down']\n",
    "    price['Consecutive'] = down * (down.groupby((down != down.shift()).cumsum()).cumcount() + 1)\n",
    "    \n",
    "    price['Long'] = price.Consecutive >= down_days\n",
    "\n",
    "    price['Sys_Ret'] = np.where(price.Long.shift(1) == True, price.cc, 1)\n",
    "    price['Sys_Bal'] = STARTING_BALANCE * price.Sys_Ret.cumprod()\n",
    "    \n",
    "    #calculate system drawdown\n",
    "    price['Sys_Peak'] = price.Sys_Bal.cummax()\n",
    "    price['Sys_DD'] = price.Sys_Bal - price.Sys_Peak\n",
    "  \n",
    "    #calculate metrics\n",
    "    bench_cagr = round(((((price.Bench_Bal[-1]/price.Bench_Bal[0])**(1/YEARS))-1)*100), 2)\n",
    "    bench_dd = round((price.Bench_DD / price.Bench_Peak).min() * 100, 2)\n",
    "    sys_cagr = round(((((price.Sys_Bal[-1]/price.Sys_Bal[0])**(1/YEARS))-1)*100), 2)\n",
    "    sys_dd = round(((price.Sys_DD / price.Sys_Peak).min()) * 100, 2)\n",
    "    \n",
    "    return bench_cagr, sys_cagr"
   ]
  },
  {
   "cell_type": "code",
   "execution_count": 18,
   "metadata": {},
   "outputs": [],
   "source": [
    "#backtest multiple symbols\n",
    "bc = []\n",
    "sc = []\n",
    "\n",
    "\n",
    "for symbol in symbols:\n",
    "    bench_cagr, sys_cagr = backtest(symbol)\n",
    "    bc.append(bench_cagr)\n",
    "    sc.append(sys_cagr)"
   ]
  },
  {
   "cell_type": "code",
   "execution_count": 26,
   "metadata": {},
   "outputs": [
    {
     "data": {
      "image/png": "[encoded data removed]",
      "text/plain": [
       "<Figure size 432x288 with 1 Axes>"
      ]
     },
     "metadata": {
      "needs_background": "light"
     },
     "output_type": "display_data"
    }
   ],
   "source": [
    "#plot data\n",
    "x_indices = np.arange(len(symbols))\n",
    "width = 0.2\n",
    "\n",
    "plt.bar(x_indices - width / 2, bc, width = width, label = 'Benchmark')\n",
    "plt.bar(x_indices + width / 2, sc, width = width, label = 'System')\n",
    "   \n",
    "plt.xticks(ticks = x_indices, labels = symbols)\n",
    "\n",
    "plt.legend()\n",
    "\n",
    "plt.title('Backtest CAGR')\n",
    "plt.xlabel('Symbols')\n",
    "plt.ylabel('% CAGR')\n",
    "plt.tight_layout()\n",
    "\n",
    "plt.grid(False)\n",
    "plt.savefig('saved_figure.png', dpi=500)\n",
    "\n",
    "plt.show()\n"
   ]
  }
 ],
 "metadata": {
  "kernelspec": {
   "display_name": "Python 3",
   "language": "python",
   "name": "python3"
  },
  "language_info": {
   "codemirror_mode": {
    "name": "ipython",
    "version": 3
   },
   "file_extension": ".py",
   "mimetype": "text/x-python",
   "name": "python",
   "nbconvert_exporter": "python",
   "pygments_lexer": "ipython3",
   "version": "3.8.3"
  }
 },
 "nbformat": 4,
 "nbformat_minor": 4
}
